{
  "nbformat": 4,
  "nbformat_minor": 0,
  "metadata": {
    "colab": {
      "name": "Proyek Akhir : Klasifikasi Gambar.ipynb",
      "provenance": [],
      "collapsed_sections": [],
      "toc_visible": true
    },
    "kernelspec": {
      "name": "python3",
      "display_name": "Python 3"
    },
    "language_info": {
      "name": "python"
    },
    "accelerator": "GPU"
  },
  "cells": [
    {
      "cell_type": "markdown",
      "metadata": {
        "id": "koSMX12geQmC"
      },
      "source": [
        "# **IDENTITAS DIRI**\n",
        "1. Nama: Siska Apriana Rifianti\n",
        "2. Alamat: Jl. Gunung Kawi, Kec. Besuki, Kab. Situbondo\n",
        "3. Alamat E-mail: siska.apriana.1703226@students.um.ac.id\n",
        "\n",
        "\n",
        "\n"
      ]
    },
    {
      "cell_type": "markdown",
      "metadata": {
        "id": "R6gzab3nePiU"
      },
      "source": [
        "# **Proyek Akhir: Klasifikasi Gambar**\n",
        "<span style=\"font-family:Patrick Hand\"> **Tujuan**: Membuat program jaringan saraf tiruan menggunakan  TensorFlow yang mampu mengenali bentuk tangan yang membentuk gunting, batu, atau kertas. </span>"
      ]
    },
    {
      "cell_type": "markdown",
      "metadata": {
        "id": "a3k2epAaHaym"
      },
      "source": [
        "## 1. **Tahap Pra-Preprocessing**\n",
        "### 1.1 **Cek Versi dari library Tensorflow**\n",
        "<span style=\"font-family:Patrick Hand\">Hal ini dilakukan untuk memastikan librarari Tensorflow yang digunakan adalah versi 2.0.0 keatas</span>"
      ]
    },
    {
      "cell_type": "code",
      "metadata": {
        "id": "8HJ7zX-6HiRe",
        "colab": {
          "base_uri": "https://localhost:8080/"
        },
        "outputId": "72dcd634-c549-4c5f-8f4a-9a55c1dfe1ea"
      },
      "source": [
        "import tensorflow as tf\n",
        "print(tf.__version__)"
      ],
      "execution_count": 2,
      "outputs": [
        {
          "output_type": "stream",
          "text": [
            "2.4.1\n"
          ],
          "name": "stdout"
        }
      ]
    },
    {
      "cell_type": "markdown",
      "metadata": {
        "id": "iYChyC4OHtCt"
      },
      "source": [
        "<span style=\"font-family:Patrick Hand\">Jika versi dari library tensorflow yang digunakan bukan versi 2.0.0 keatas maka kita perlu meng-updatenya. Namun jika libarary TensorFlow kita sudah merupakan versi 2.0.0 ke atas kita tidak perlu melakukan hal tersebut</span>"
      ]
    },
    {
      "cell_type": "code",
      "metadata": {
        "id": "M1kF4X1qHx-0"
      },
      "source": [
        "#Update dan install versi tensorflow yang diinginkan: (Opsional!)\n",
        "import sys\n",
        "!{sys.executable} -m pip install tensorflow==2.4.1 "
      ],
      "execution_count": null,
      "outputs": []
    },
    {
      "cell_type": "markdown",
      "metadata": {
        "id": "oPe9-rY9IAnz"
      },
      "source": [
        "**Note:** <span style=\"font-family:Patrick Hand\">jangan lupa untuk me-restart/memuat ulang notebook setelah melakukan update dan install sebuah library</span>"
      ]
    },
    {
      "cell_type": "code",
      "metadata": {
        "colab": {
          "base_uri": "https://localhost:8080/"
        },
        "id": "-pfYxdH5JDve",
        "outputId": "646a0049-7352-4147-bd43-ac10cf8cb1e9"
      },
      "source": [
        "#Cek apakah versi tensorflow sudah di-update\n",
        "print(tf.__version__)"
      ],
      "execution_count": 3,
      "outputs": [
        {
          "output_type": "stream",
          "text": [
            "2.4.1\n"
          ],
          "name": "stdout"
        }
      ]
    },
    {
      "cell_type": "markdown",
      "metadata": {
        "id": "kpZcepNJJTGJ"
      },
      "source": [
        "### **1.2 Mendownload Dataset Kedalam  Notebook**"
      ]
    },
    {
      "cell_type": "code",
      "metadata": {
        "colab": {
          "base_uri": "https://localhost:8080/"
        },
        "id": "wlRBVaobJXlI",
        "outputId": "3969e700-5449-4a0d-a499-e3aecc5dcc21"
      },
      "source": [
        "!wget --no-check-certificate \\\n",
        "  https://dicodingacademy.blob.core.windows.net/picodiploma/ml_pemula_academy/rockpaperscissors.zip \\\n",
        "  -O /tmp/rockpaperscissors.zip"
      ],
      "execution_count": 3,
      "outputs": [
        {
          "output_type": "stream",
          "text": [
            "--2021-05-11 03:38:07--  https://dicodingacademy.blob.core.windows.net/picodiploma/ml_pemula_academy/rockpaperscissors.zip\n",
            "Resolving dicodingacademy.blob.core.windows.net (dicodingacademy.blob.core.windows.net)... 52.239.197.36\n",
            "Connecting to dicodingacademy.blob.core.windows.net (dicodingacademy.blob.core.windows.net)|52.239.197.36|:443... connected.\n",
            "HTTP request sent, awaiting response... 200 OK\n",
            "Length: 322873683 (308M) [application/zip]\n",
            "Saving to: ‘/tmp/rockpaperscissors.zip’\n",
            "\n",
            "/tmp/rockpapersciss 100%[===================>] 307.92M  1.84MB/s    in 3m 40s  \n",
            "\n",
            "2021-05-11 03:41:48 (1.40 MB/s) - ‘/tmp/rockpaperscissors.zip’ saved [322873683/322873683]\n",
            "\n"
          ],
          "name": "stdout"
        }
      ]
    },
    {
      "cell_type": "markdown",
      "metadata": {
        "id": "yMI0elHfJr2z"
      },
      "source": [
        "<span style=\"font-family:Patrick Hand\">Pastikan dataset kita telah ter-download kedalam notebook:</span>"
      ]
    },
    {
      "cell_type": "code",
      "metadata": {
        "colab": {
          "base_uri": "https://localhost:8080/"
        },
        "id": "m5XCXaINJxmp",
        "outputId": "57aa69ad-b8ef-4d60-d1fd-413dc70dc460"
      },
      "source": [
        "#Cek dataset:\n",
        "\"\"\"\n",
        "Dataset yang telah kita dowload akan berada di dalam folder /tmp\n",
        "\"\"\"\n",
        "import os\n",
        "os.listdir('/tmp')"
      ],
      "execution_count": 4,
      "outputs": [
        {
          "output_type": "execute_result",
          "data": {
            "text/plain": [
              "['debugger_2ql15kzym',\n",
              " 'dap_multiplexer.7a637d88d726.root.log.INFO.20210511-033616.48',\n",
              " 'dap_multiplexer.INFO',\n",
              " 'rockpaperscissors.zip',\n",
              " 'initgoogle_syslog_dir.0']"
            ]
          },
          "metadata": {
            "tags": []
          },
          "execution_count": 4
        }
      ]
    },
    {
      "cell_type": "markdown",
      "metadata": {
        "id": "B55yMHlwKReo"
      },
      "source": [
        "Dapat kita lihat bahwa di dalam foldet tmp telah terdapat file dataset kita yaitu 'rockpaperscissors.zip'"
      ]
    },
    {
      "cell_type": "markdown",
      "metadata": {
        "id": "mk6HzJwbKniH"
      },
      "source": [
        "### **1.3 Melakukan Ekstraksi File Dataset**"
      ]
    },
    {
      "cell_type": "markdown",
      "metadata": {
        "id": "hmCEVaVOKvFz"
      },
      "source": [
        "<span style=\"font-family:Patrick Hand\">Karena file dataset kita masih berbentuk zip file maka kita perlu meng-ekstrak file tersebut agar datanya dapat digunakan</span>"
      ]
    },
    {
      "cell_type": "code",
      "metadata": {
        "colab": {
          "base_uri": "https://localhost:8080/"
        },
        "id": "Tcmre17AKyu4",
        "outputId": "2730f150-f102-4108-ca15-9c264e9de25c"
      },
      "source": [
        "import zipfile\n",
        "file_zip_name = '/tmp/rockpaperscissors.zip' #Definisikan nama file-zip kedalam variabel file_zip_name\n",
        "file_zip = zipfile.ZipFile(file_zip_name, 'r') #Buka file-zip yang kita dalam mode read\n",
        "file_zip.extractall('/tmp') #Ekstrak file zip (jangan lupa untuk menetapkan tempat menyimpan file hasil ekstraksi yaitu di folder tmp)\n",
        "file_zip.close #Tutup file"
      ],
      "execution_count": 5,
      "outputs": [
        {
          "output_type": "execute_result",
          "data": {
            "text/plain": [
              "<bound method ZipFile.close of <zipfile.ZipFile filename='/tmp/rockpaperscissors.zip' mode='r'>>"
            ]
          },
          "metadata": {
            "tags": []
          },
          "execution_count": 5
        }
      ]
    },
    {
      "cell_type": "code",
      "metadata": {
        "colab": {
          "base_uri": "https://localhost:8080/"
        },
        "id": "DOiqLrbBLek2",
        "outputId": "08dd83c2-f3fb-4b47-82d2-c912d6fe4239"
      },
      "source": [
        "#Cek file telah terekstraksi\n",
        "os.listdir('/tmp')"
      ],
      "execution_count": 6,
      "outputs": [
        {
          "output_type": "execute_result",
          "data": {
            "text/plain": [
              "['debugger_2ql15kzym',\n",
              " 'dap_multiplexer.7a637d88d726.root.log.INFO.20210511-033616.48',\n",
              " 'dap_multiplexer.INFO',\n",
              " '__MACOSX',\n",
              " 'rockpaperscissors.zip',\n",
              " 'initgoogle_syslog_dir.0',\n",
              " 'rockpaperscissors']"
            ]
          },
          "metadata": {
            "tags": []
          },
          "execution_count": 6
        }
      ]
    },
    {
      "cell_type": "markdown",
      "metadata": {
        "id": "Gvhuy7eXNrx2"
      },
      "source": [
        "<span style=\"font-family:Patrick Hand\">**Note:** Pada hasil diatas dapat dilihat bahwa telah terdapat direktori rockpaperscissors yang berisi file dataset yang akan kita guanakan.</span>"
      ]
    },
    {
      "cell_type": "code",
      "metadata": {
        "colab": {
          "base_uri": "https://localhost:8080/"
        },
        "id": "cN6ALen-Ntmv",
        "outputId": "d13d9096-3b26-4996-ae59-9d16e6b44f8b"
      },
      "source": [
        "#cek list direktori di dalam direktori rockpaperscissors\n",
        "rockpaperscissors_dir = '/tmp/rockpaperscissors'\n",
        "os.listdir(rockpaperscissors_dir)"
      ],
      "execution_count": 7,
      "outputs": [
        {
          "output_type": "execute_result",
          "data": {
            "text/plain": [
              "['rps-cv-images', 'README_rpc-cv-images.txt', 'rock', 'scissors', 'paper']"
            ]
          },
          "metadata": {
            "tags": []
          },
          "execution_count": 7
        }
      ]
    },
    {
      "cell_type": "markdown",
      "metadata": {
        "id": "QAW29_yGN1v1"
      },
      "source": [
        "### **1.4 Membuat direktori untuk Data Training dan Data Validation teks tebal**"
      ]
    },
    {
      "cell_type": "code",
      "metadata": {
        "id": "_GcWQdPTN8ia"
      },
      "source": [
        "data_training_dir = os.path.join(rockpaperscissors_dir,\"training\")\n",
        "data_validation_dir = os.path.join(rockpaperscissors_dir,\"validation\")\n",
        "\n",
        "os.mkdir(data_training_dir)\n",
        "os.mkdir(data_validation_dir)"
      ],
      "execution_count": 8,
      "outputs": []
    },
    {
      "cell_type": "code",
      "metadata": {
        "colab": {
          "base_uri": "https://localhost:8080/"
        },
        "id": "vfCTQ2AxOAth",
        "outputId": "270dcaa6-dcf7-4be7-9904-4a5d9864c445"
      },
      "source": [
        "#Cek terbentuknya direktori baru:\n",
        "os.listdir(rockpaperscissors_dir)"
      ],
      "execution_count": 9,
      "outputs": [
        {
          "output_type": "execute_result",
          "data": {
            "text/plain": [
              "['rps-cv-images',\n",
              " 'validation',\n",
              " 'README_rpc-cv-images.txt',\n",
              " 'rock',\n",
              " 'scissors',\n",
              " 'training',\n",
              " 'paper']"
            ]
          },
          "metadata": {
            "tags": []
          },
          "execution_count": 9
        }
      ]
    },
    {
      "cell_type": "markdown",
      "metadata": {
        "id": "3p4YMBBlOG27"
      },
      "source": [
        "### **1.5 Mengisi Direktori Data Training dan Data Sets (sesuai ketentuan yang ditetapkan)**"
      ]
    },
    {
      "cell_type": "markdown",
      "metadata": {
        "id": "HC1KzMicOPq_"
      },
      "source": [
        "**Ketentuan:** Ukuran validation set harus 40% dari total dataset (data training memiliki 1314 sampel, dan data validasi sebanyak 874 sampel)."
      ]
    },
    {
      "cell_type": "markdown",
      "metadata": {
        "id": "yJG19fKsOUvv"
      },
      "source": [
        "<span style=\"font-family:Patrick Hand\">Pertama-tama kita akan melihat isi dari direktori rock, scissors, dan paper. Hal ini dilakukan untuk memastikan bahwa didalam folder tersebut hanya terdapat jenis file dataset yang sama (dalam kasus kita adalah file gambar)</span>"
      ]
    },
    {
      "cell_type": "code",
      "metadata": {
        "id": "NSJBV8Y4OXRI"
      },
      "source": [
        "def cek_file_gambar(sumber_direktori):\n",
        "    list_file = os.listdir(sumber_direktori)\n",
        "    for file in list_file:\n",
        "        if not file.endswith(\".png\") or file.endswith(\".jpg\"):\n",
        "            return(\"Terdapat file bukan gambar di dalam direktori\")\n",
        "            break;\n",
        "    return(\"Semua file di dalam direktori adalah file gambar\")"
      ],
      "execution_count": 10,
      "outputs": []
    },
    {
      "cell_type": "code",
      "metadata": {
        "colab": {
          "base_uri": "https://localhost:8080/"
        },
        "id": "rIF2veHROcaR",
        "outputId": "f28ca453-d2d2-4406-9c4e-e9a6a011163a"
      },
      "source": [
        "rock_dir = os.path.join(rockpaperscissors_dir,'rock')\n",
        "print(\"Cek directori rock:\", cek_file_gambar(rock_dir))"
      ],
      "execution_count": 11,
      "outputs": [
        {
          "output_type": "stream",
          "text": [
            "Cek directori rock: Semua file di dalam direktori adalah file gambar\n"
          ],
          "name": "stdout"
        }
      ]
    },
    {
      "cell_type": "code",
      "metadata": {
        "colab": {
          "base_uri": "https://localhost:8080/"
        },
        "id": "sQVCyMfwOhDo",
        "outputId": "35cea991-d62c-49d9-bc1a-63c786c28b1e"
      },
      "source": [
        "scissors_dir = os.path.join(rockpaperscissors_dir,'scissors')\n",
        "print(\"Cek directori scissors:\", cek_file_gambar(scissors_dir))"
      ],
      "execution_count": 12,
      "outputs": [
        {
          "output_type": "stream",
          "text": [
            "Cek directori scissors: Semua file di dalam direktori adalah file gambar\n"
          ],
          "name": "stdout"
        }
      ]
    },
    {
      "cell_type": "code",
      "metadata": {
        "colab": {
          "base_uri": "https://localhost:8080/"
        },
        "id": "vlGg10xQOj-X",
        "outputId": "02c1f0f1-aed6-46f2-d936-51f2afa6843e"
      },
      "source": [
        "paper_dir = os.path.join(rockpaperscissors_dir,'paper')\n",
        "print(\"Cek directori paper:\", cek_file_gambar(scissors_dir))"
      ],
      "execution_count": 13,
      "outputs": [
        {
          "output_type": "stream",
          "text": [
            "Cek directori paper: Semua file di dalam direktori adalah file gambar\n"
          ],
          "name": "stdout"
        }
      ]
    },
    {
      "cell_type": "markdown",
      "metadata": {
        "id": "cE4OlJ1ROnbP"
      },
      "source": [
        "<span style=\"font-family:Patrick Hand\">Langkah selanjutnya menghitung jumlah file yang ada didalam direktori rock, scissors, dan paper</span>"
      ]
    },
    {
      "cell_type": "code",
      "metadata": {
        "id": "ImYYolP_OqAU"
      },
      "source": [
        "def hitung_jumlah_file(sumber_dirFile):\n",
        "    for path, dir, files in os.walk(sumber_dirFile):\n",
        "        if files:\n",
        "            n = 0\n",
        "            for file in files:\n",
        "                n += 1\n",
        "\n",
        "    return(n)\n"
      ],
      "execution_count": 14,
      "outputs": []
    },
    {
      "cell_type": "code",
      "metadata": {
        "colab": {
          "base_uri": "https://localhost:8080/"
        },
        "id": "A78qTLB7OvbD",
        "outputId": "2eb0cc09-46b1-4125-a8b1-f66d6f626e6a"
      },
      "source": [
        "#Menghitung jumlah file untuk:\n",
        "sum_file_rock_dir = hitung_jumlah_file(rock_dir)\n",
        "print(\"jumlah gambar tangan berbentuk rock: \",sum_file_rock_dir)\n",
        "\n",
        "sum_file_scissors_dir = hitung_jumlah_file(scissors_dir)\n",
        "print(\"jumlah gambar tangan berbentuk scissors: \",sum_file_scissors_dir)\n",
        "\n",
        "sum_file_paper_dir = hitung_jumlah_file(paper_dir)\n",
        "print(\"jumlah gambar tangan berbentuk paper: \", sum_file_paper_dir)\n",
        "\n",
        "total_gambar = sum_file_rock_dir+sum_file_scissors_dir+sum_file_paper_dir\n",
        "print(\"total keseluruhan gambar (dataset): \",total_gambar)"
      ],
      "execution_count": 15,
      "outputs": [
        {
          "output_type": "stream",
          "text": [
            "jumlah gambar tangan berbentuk rock:  726\n",
            "jumlah gambar tangan berbentuk scissors:  750\n",
            "jumlah gambar tangan berbentuk paper:  712\n",
            "total keseluruhan gambar (dataset):  2188\n"
          ],
          "name": "stdout"
        }
      ]
    },
    {
      "cell_type": "markdown",
      "metadata": {
        "id": "iyhzLumoO2XY"
      },
      "source": [
        "<span style=\"font-family:Patrick Hand\">Kita akan membagi total keseluruhan gambar yang kita miliki menjadi data training dan data validation. Data validation harus berjumlah 40% dari keseluruhan data yaitu sekitar 874 data</span>"
      ]
    },
    {
      "cell_type": "code",
      "metadata": {
        "colab": {
          "base_uri": "https://localhost:8080/"
        },
        "id": "z-lredBmO4kz",
        "outputId": "042b3de3-541e-4194-80df-3d6f8b1a8d50"
      },
      "source": [
        "#Mencari jumlah data pada masing-masing kelas yang akan dijadikan sebagai data validation\n",
        "jumlah_valRock_data = int((726*0.4))\n",
        "print(jumlah_valRock_data)\n",
        "jumlah_valScissors_data = int((752*0.4))\n",
        "print(jumlah_valScissors_data)\n",
        "jumlah_valPaper_data = int((710*0.4))\n",
        "print(jumlah_valPaper_data)\n",
        "total_val = jumlah_valRock_data+jumlah_valPaper_data+jumlah_valScissors_data\n",
        "print(total_val) #Memastikan bahwa total data yang telah ditetapkan berjumlah 874\n"
      ],
      "execution_count": 16,
      "outputs": [
        {
          "output_type": "stream",
          "text": [
            "290\n",
            "300\n",
            "284\n",
            "874\n"
          ],
          "name": "stdout"
        }
      ]
    },
    {
      "cell_type": "markdown",
      "metadata": {
        "id": "1WGJBuKxO9pP"
      },
      "source": [
        "<span style=\"font-family:Patrick Hand\">Kita akan persiapkan terlebih dahulu direktori untuk menampung masing-masing kelas di dalam direktori training dan validation</span>"
      ]
    },
    {
      "cell_type": "code",
      "metadata": {
        "colab": {
          "base_uri": "https://localhost:8080/"
        },
        "id": "72o6-_0gO--Q",
        "outputId": "7a690145-da52-4668-9624-297d0b474d47"
      },
      "source": [
        "#Untuk direktori training\n",
        "train_rock = os.path.join(data_training_dir,'rock')\n",
        "os.mkdir(train_rock)\n",
        "train_scissors = os.path.join(data_training_dir,'scissors')\n",
        "os.mkdir(train_scissors)\n",
        "train_paper = os.path.join(data_training_dir,'paper')\n",
        "os.mkdir(train_paper)\n",
        "\n",
        "os.listdir(data_training_dir)"
      ],
      "execution_count": 17,
      "outputs": [
        {
          "output_type": "execute_result",
          "data": {
            "text/plain": [
              "['rock', 'scissors', 'paper']"
            ]
          },
          "metadata": {
            "tags": []
          },
          "execution_count": 17
        }
      ]
    },
    {
      "cell_type": "code",
      "metadata": {
        "colab": {
          "base_uri": "https://localhost:8080/"
        },
        "id": "FVpU-ySwPDjP",
        "outputId": "f520c14e-1c01-4eca-ed4c-296fe14ecdfe"
      },
      "source": [
        "#Untuk direktori validation\n",
        "val_rock = os.path.join(data_validation_dir,'rock')\n",
        "os.mkdir(val_rock)\n",
        "val_scissors = os.path.join(data_validation_dir,'scissors')\n",
        "os.mkdir(val_scissors)\n",
        "val_paper = os.path.join(data_validation_dir,'paper')\n",
        "os.mkdir(val_paper)\n",
        "\n",
        "os.listdir(data_validation_dir)"
      ],
      "execution_count": 18,
      "outputs": [
        {
          "output_type": "execute_result",
          "data": {
            "text/plain": [
              "['rock', 'scissors', 'paper']"
            ]
          },
          "metadata": {
            "tags": []
          },
          "execution_count": 18
        }
      ]
    },
    {
      "cell_type": "markdown",
      "metadata": {
        "id": "iqZnSV6LPHx4"
      },
      "source": [
        "<span style=\"font-family:Patrick Hand\">Memindahkan file ke dalam direktori untuk masing-masing kelas yang berada di dalam direktori training dan validation</span>"
      ]
    },
    {
      "cell_type": "code",
      "metadata": {
        "id": "abSmExePPIZW"
      },
      "source": [
        "#Membuat definisi untuk memindahkan file:\n",
        "def pindah_file(sumber_dir, target_dir, jumlah_file):\n",
        "    for path, dir, files in os.walk(sumber_dir):\n",
        "        if files:\n",
        "            n = 0\n",
        "            for file in files:\n",
        "                if not os.path.isfile(os.path.join(target_dir,file)):\n",
        "                    os.rename(os.path.join(sumber_dir,file), os.path.join(target_dir,str(n)+'.png'))\n",
        "                    n +=1\n",
        "                    if n==jumlah_file :\n",
        "                        break;\n",
        "    print('File telah dipindahkan sesuai perminataan')"
      ],
      "execution_count": 19,
      "outputs": []
    },
    {
      "cell_type": "code",
      "metadata": {
        "colab": {
          "base_uri": "https://localhost:8080/"
        },
        "id": "4vovmyXiPNXJ",
        "outputId": "741ceed4-c92f-4519-dbb1-ad7f936ac2ad"
      },
      "source": [
        "#Mengisi direktori validation:\n",
        "#rock:\n",
        "pindah_file(rock_dir, val_rock, jumlah_valRock_data)\n",
        "#scissors:\n",
        "pindah_file(scissors_dir, val_scissors, jumlah_valScissors_data)\n",
        "#paper:\n",
        "pindah_file(paper_dir, val_paper, jumlah_valPaper_data)"
      ],
      "execution_count": 20,
      "outputs": [
        {
          "output_type": "stream",
          "text": [
            "File telah dipindahkan sesuai perminataan\n",
            "File telah dipindahkan sesuai perminataan\n",
            "File telah dipindahkan sesuai perminataan\n"
          ],
          "name": "stdout"
        }
      ]
    },
    {
      "cell_type": "code",
      "metadata": {
        "colab": {
          "base_uri": "https://localhost:8080/"
        },
        "id": "LM7Yn1z5PRsn",
        "outputId": "e81676e6-1d1e-4c57-eecc-1e45c08153b1"
      },
      "source": [
        "#cek jumlah file yang dipindahkan\n",
        "print(\"data validatian rock: \",hitung_jumlah_file(val_rock))\n",
        "print(\"data validation scissors: \",hitung_jumlah_file(val_scissors))\n",
        "print(\"data validation paper: \",hitung_jumlah_file(val_paper))\n"
      ],
      "execution_count": 21,
      "outputs": [
        {
          "output_type": "stream",
          "text": [
            "data validatian rock:  290\n",
            "data validation scissors:  300\n",
            "data validation paper:  284\n"
          ],
          "name": "stdout"
        }
      ]
    },
    {
      "cell_type": "code",
      "metadata": {
        "colab": {
          "base_uri": "https://localhost:8080/"
        },
        "id": "aybmP_d7PVFH",
        "outputId": "86935689-b026-4ca5-b12d-9802282258f4"
      },
      "source": [
        "#Mengisi direktori validation:\n",
        "#rock:\n",
        "pindah_file(rock_dir, train_rock, sum_file_rock_dir-jumlah_valRock_data)\n",
        "#scissors:\n",
        "pindah_file(scissors_dir, train_scissors, sum_file_scissors_dir-jumlah_valScissors_data)\n",
        "#paper:\n",
        "pindah_file(paper_dir, train_paper, sum_file_paper_dir-jumlah_valPaper_data)"
      ],
      "execution_count": 22,
      "outputs": [
        {
          "output_type": "stream",
          "text": [
            "File telah dipindahkan sesuai perminataan\n",
            "File telah dipindahkan sesuai perminataan\n",
            "File telah dipindahkan sesuai perminataan\n"
          ],
          "name": "stdout"
        }
      ]
    },
    {
      "cell_type": "code",
      "metadata": {
        "colab": {
          "base_uri": "https://localhost:8080/"
        },
        "id": "myKanK2gPacx",
        "outputId": "1a3e054b-2f00-43b5-ee7d-c1454bd21b60"
      },
      "source": [
        "#cek jumlah file yang dipindahkan ke data traininy\n",
        "print(\"data training rock: \",hitung_jumlah_file(train_rock))\n",
        "print(\"data training scissors: \",hitung_jumlah_file(train_scissors))\n",
        "print(\"data training paper: \",hitung_jumlah_file(train_paper))"
      ],
      "execution_count": 23,
      "outputs": [
        {
          "output_type": "stream",
          "text": [
            "data training rock:  436\n",
            "data training scissors:  450\n",
            "data training paper:  428\n"
          ],
          "name": "stdout"
        }
      ]
    },
    {
      "cell_type": "code",
      "metadata": {
        "colab": {
          "base_uri": "https://localhost:8080/"
        },
        "id": "Vt59gaR5PdtK",
        "outputId": "fe76572b-6528-4bb0-c1b5-59f222ede353"
      },
      "source": [
        "#cek isi direktori (bisa pilih salah satu atau seluruhnya:)\n",
        "os.listdir(train_rock)"
      ],
      "execution_count": 24,
      "outputs": [
        {
          "output_type": "execute_result",
          "data": {
            "text/plain": [
              "['156.png',\n",
              " '264.png',\n",
              " '63.png',\n",
              " '302.png',\n",
              " '14.png',\n",
              " '367.png',\n",
              " '238.png',\n",
              " '84.png',\n",
              " '333.png',\n",
              " '372.png',\n",
              " '375.png',\n",
              " '79.png',\n",
              " '153.png',\n",
              " '429.png',\n",
              " '258.png',\n",
              " '288.png',\n",
              " '2.png',\n",
              " '5.png',\n",
              " '83.png',\n",
              " '317.png',\n",
              " '426.png',\n",
              " '49.png',\n",
              " '140.png',\n",
              " '352.png',\n",
              " '308.png',\n",
              " '231.png',\n",
              " '296.png',\n",
              " '281.png',\n",
              " '172.png',\n",
              " '393.png',\n",
              " '225.png',\n",
              " '431.png',\n",
              " '299.png',\n",
              " '45.png',\n",
              " '16.png',\n",
              " '347.png',\n",
              " '248.png',\n",
              " '206.png',\n",
              " '159.png',\n",
              " '13.png',\n",
              " '253.png',\n",
              " '158.png',\n",
              " '170.png',\n",
              " '118.png',\n",
              " '123.png',\n",
              " '227.png',\n",
              " '359.png',\n",
              " '95.png',\n",
              " '260.png',\n",
              " '197.png',\n",
              " '247.png',\n",
              " '110.png',\n",
              " '12.png',\n",
              " '241.png',\n",
              " '20.png',\n",
              " '9.png',\n",
              " '433.png',\n",
              " '181.png',\n",
              " '306.png',\n",
              " '349.png',\n",
              " '397.png',\n",
              " '58.png',\n",
              " '374.png',\n",
              " '89.png',\n",
              " '43.png',\n",
              " '266.png',\n",
              " '21.png',\n",
              " '240.png',\n",
              " '407.png',\n",
              " '400.png',\n",
              " '157.png',\n",
              " '330.png',\n",
              " '190.png',\n",
              " '127.png',\n",
              " '192.png',\n",
              " '309.png',\n",
              " '129.png',\n",
              " '395.png',\n",
              " '239.png',\n",
              " '300.png',\n",
              " '232.png',\n",
              " '226.png',\n",
              " '132.png',\n",
              " '230.png',\n",
              " '198.png',\n",
              " '166.png',\n",
              " '318.png',\n",
              " '274.png',\n",
              " '382.png',\n",
              " '233.png',\n",
              " '420.png',\n",
              " '388.png',\n",
              " '361.png',\n",
              " '340.png',\n",
              " '187.png',\n",
              " '150.png',\n",
              " '346.png',\n",
              " '324.png',\n",
              " '213.png',\n",
              " '78.png',\n",
              " '188.png',\n",
              " '376.png',\n",
              " '272.png',\n",
              " '175.png',\n",
              " '320.png',\n",
              " '421.png',\n",
              " '167.png',\n",
              " '282.png',\n",
              " '418.png',\n",
              " '289.png',\n",
              " '399.png',\n",
              " '262.png',\n",
              " '34.png',\n",
              " '114.png',\n",
              " '65.png',\n",
              " '268.png',\n",
              " '90.png',\n",
              " '35.png',\n",
              " '111.png',\n",
              " '415.png',\n",
              " '216.png',\n",
              " '144.png',\n",
              " '304.png',\n",
              " '70.png',\n",
              " '186.png',\n",
              " '345.png',\n",
              " '72.png',\n",
              " '312.png',\n",
              " '146.png',\n",
              " '53.png',\n",
              " '160.png',\n",
              " '351.png',\n",
              " '54.png',\n",
              " '88.png',\n",
              " '145.png',\n",
              " '179.png',\n",
              " '212.png',\n",
              " '163.png',\n",
              " '273.png',\n",
              " '357.png',\n",
              " '128.png',\n",
              " '176.png',\n",
              " '66.png',\n",
              " '169.png',\n",
              " '24.png',\n",
              " '142.png',\n",
              " '7.png',\n",
              " '60.png',\n",
              " '161.png',\n",
              " '355.png',\n",
              " '257.png',\n",
              " '202.png',\n",
              " '432.png',\n",
              " '59.png',\n",
              " '373.png',\n",
              " '411.png',\n",
              " '134.png',\n",
              " '69.png',\n",
              " '353.png',\n",
              " '178.png',\n",
              " '417.png',\n",
              " '117.png',\n",
              " '290.png',\n",
              " '408.png',\n",
              " '3.png',\n",
              " '336.png',\n",
              " '342.png',\n",
              " '44.png',\n",
              " '109.png',\n",
              " '298.png',\n",
              " '370.png',\n",
              " '371.png',\n",
              " '220.png',\n",
              " '165.png',\n",
              " '331.png',\n",
              " '214.png',\n",
              " '100.png',\n",
              " '369.png',\n",
              " '276.png',\n",
              " '143.png',\n",
              " '246.png',\n",
              " '293.png',\n",
              " '389.png',\n",
              " '208.png',\n",
              " '151.png',\n",
              " '200.png',\n",
              " '343.png',\n",
              " '219.png',\n",
              " '164.png',\n",
              " '385.png',\n",
              " '387.png',\n",
              " '28.png',\n",
              " '297.png',\n",
              " '25.png',\n",
              " '278.png',\n",
              " '168.png',\n",
              " '185.png',\n",
              " '244.png',\n",
              " '243.png',\n",
              " '173.png',\n",
              " '334.png',\n",
              " '6.png',\n",
              " '422.png',\n",
              " '116.png',\n",
              " '402.png',\n",
              " '319.png',\n",
              " '183.png',\n",
              " '171.png',\n",
              " '391.png',\n",
              " '261.png',\n",
              " '254.png',\n",
              " '27.png',\n",
              " '301.png',\n",
              " '354.png',\n",
              " '136.png',\n",
              " '327.png',\n",
              " '120.png',\n",
              " '414.png',\n",
              " '280.png',\n",
              " '251.png',\n",
              " '174.png',\n",
              " '32.png',\n",
              " '15.png',\n",
              " '131.png',\n",
              " '85.png',\n",
              " '311.png',\n",
              " '223.png',\n",
              " '348.png',\n",
              " '113.png',\n",
              " '307.png',\n",
              " '337.png',\n",
              " '139.png',\n",
              " '76.png',\n",
              " '126.png',\n",
              " '91.png',\n",
              " '427.png',\n",
              " '305.png',\n",
              " '77.png',\n",
              " '335.png',\n",
              " '30.png',\n",
              " '366.png',\n",
              " '323.png',\n",
              " '133.png',\n",
              " '189.png',\n",
              " '61.png',\n",
              " '106.png',\n",
              " '92.png',\n",
              " '162.png',\n",
              " '394.png',\n",
              " '73.png',\n",
              " '284.png',\n",
              " '255.png',\n",
              " '419.png',\n",
              " '93.png',\n",
              " '57.png',\n",
              " '358.png',\n",
              " '383.png',\n",
              " '236.png',\n",
              " '26.png',\n",
              " '392.png',\n",
              " '356.png',\n",
              " '390.png',\n",
              " '50.png',\n",
              " '295.png',\n",
              " '338.png',\n",
              " '98.png',\n",
              " '101.png',\n",
              " '31.png',\n",
              " '48.png',\n",
              " '287.png',\n",
              " '249.png',\n",
              " '51.png',\n",
              " '121.png',\n",
              " '405.png',\n",
              " '191.png',\n",
              " '332.png',\n",
              " '252.png',\n",
              " '211.png',\n",
              " '137.png',\n",
              " '325.png',\n",
              " '102.png',\n",
              " '222.png',\n",
              " '82.png',\n",
              " '384.png',\n",
              " '0.png',\n",
              " '29.png',\n",
              " '205.png',\n",
              " '130.png',\n",
              " '217.png',\n",
              " '263.png',\n",
              " '403.png',\n",
              " '62.png',\n",
              " '416.png',\n",
              " '47.png',\n",
              " '37.png',\n",
              " '229.png',\n",
              " '378.png',\n",
              " '218.png',\n",
              " '362.png',\n",
              " '75.png',\n",
              " '40.png',\n",
              " '203.png',\n",
              " '250.png',\n",
              " '259.png',\n",
              " '184.png',\n",
              " '87.png',\n",
              " '22.png',\n",
              " '8.png',\n",
              " '99.png',\n",
              " '386.png',\n",
              " '108.png',\n",
              " '434.png',\n",
              " '310.png',\n",
              " '97.png',\n",
              " '291.png',\n",
              " '41.png',\n",
              " '46.png',\n",
              " '67.png',\n",
              " '96.png',\n",
              " '380.png',\n",
              " '104.png',\n",
              " '210.png',\n",
              " '119.png',\n",
              " '256.png',\n",
              " '329.png',\n",
              " '365.png',\n",
              " '316.png',\n",
              " '237.png',\n",
              " '267.png',\n",
              " '68.png',\n",
              " '425.png',\n",
              " '235.png',\n",
              " '55.png',\n",
              " '270.png',\n",
              " '283.png',\n",
              " '344.png',\n",
              " '341.png',\n",
              " '154.png',\n",
              " '201.png',\n",
              " '195.png',\n",
              " '228.png',\n",
              " '17.png',\n",
              " '424.png',\n",
              " '135.png',\n",
              " '326.png',\n",
              " '103.png',\n",
              " '339.png',\n",
              " '368.png',\n",
              " '428.png',\n",
              " '81.png',\n",
              " '122.png',\n",
              " '147.png',\n",
              " '64.png',\n",
              " '379.png',\n",
              " '322.png',\n",
              " '80.png',\n",
              " '177.png',\n",
              " '193.png',\n",
              " '215.png',\n",
              " '350.png',\n",
              " '138.png',\n",
              " '39.png',\n",
              " '314.png',\n",
              " '180.png',\n",
              " '277.png',\n",
              " '435.png',\n",
              " '115.png',\n",
              " '194.png',\n",
              " '401.png',\n",
              " '107.png',\n",
              " '406.png',\n",
              " '381.png',\n",
              " '423.png',\n",
              " '10.png',\n",
              " '182.png',\n",
              " '42.png',\n",
              " '430.png',\n",
              " '234.png',\n",
              " '124.png',\n",
              " '275.png',\n",
              " '410.png',\n",
              " '204.png',\n",
              " '377.png',\n",
              " '196.png',\n",
              " '105.png',\n",
              " '279.png',\n",
              " '23.png',\n",
              " '52.png',\n",
              " '396.png',\n",
              " '398.png',\n",
              " '149.png',\n",
              " '148.png',\n",
              " '86.png',\n",
              " '155.png',\n",
              " '71.png',\n",
              " '315.png',\n",
              " '265.png',\n",
              " '242.png',\n",
              " '285.png',\n",
              " '56.png',\n",
              " '207.png',\n",
              " '19.png',\n",
              " '74.png',\n",
              " '38.png',\n",
              " '221.png',\n",
              " '152.png',\n",
              " '33.png',\n",
              " '209.png',\n",
              " '360.png',\n",
              " '328.png',\n",
              " '94.png',\n",
              " '245.png',\n",
              " '269.png',\n",
              " '363.png',\n",
              " '294.png',\n",
              " '4.png',\n",
              " '1.png',\n",
              " '199.png',\n",
              " '18.png',\n",
              " '303.png',\n",
              " '364.png',\n",
              " '412.png',\n",
              " '404.png',\n",
              " '141.png',\n",
              " '11.png',\n",
              " '409.png',\n",
              " '321.png',\n",
              " '292.png',\n",
              " '313.png',\n",
              " '413.png',\n",
              " '271.png',\n",
              " '125.png',\n",
              " '36.png',\n",
              " '286.png',\n",
              " '112.png',\n",
              " '224.png']"
            ]
          },
          "metadata": {
            "tags": []
          },
          "execution_count": 24
        }
      ]
    },
    {
      "cell_type": "markdown",
      "metadata": {
        "id": "vm8TbK52Pm4x"
      },
      "source": [
        "## **2. Tahap Preprocessing**"
      ]
    },
    {
      "cell_type": "markdown",
      "metadata": {
        "id": "aYXYraYpP2IX"
      },
      "source": [
        "### **2.1 Membuat objek image data generator**\n",
        "<span style=\"font-family:Patrick Hand\">**ImageDataGenerator** adalah sebuah fungsi yang sangat berguna untuk mempersiapkan data latih dan data testing yang akan diberikan ke model. </span>\n",
        "\n",
        "<span style=\"font-family:Patrick Hand\">Pada fungsi ImageDataGenerator terdapat beberapa parameter yang bisa digunakan untuk menghasilkan data baru dari data lama.\n",
        "Pada kasus ini, kita hanya akan menggunakan beberapa fungsi saja. Kalian bisa memilihat beberapa parameter pada fungsi ImageDataGenerator\n",
        "pada link: https://www.tensorflow.org/api_docs/python/tf/keras/preprocessing/image/ImageDataGenerator</span>"
      ]
    },
    {
      "cell_type": "code",
      "metadata": {
        "id": "j9onMadrP66P"
      },
      "source": [
        "#Persiapan data menggunakan ImageDataGenerator\n",
        "from tensorflow.keras.preprocessing.image import ImageDataGenerator\n",
        "\"\"\"\n",
        "Parameter pada ImageDataGenerator yang harus ada adalah rescale=1./255 yang digunakan untuk menormalisasi gambar.\n",
        "Hal ini dikarenakan, setiap pixel pada gambar memiliki rentang nilai dari 0 ampai 255 maka untuk menormalisasinya kita\n",
        "harus membagi setiap pixel gambar dengan 255.\n",
        "\n",
        "\"\"\"\n",
        "train_datagen = ImageDataGenerator(\n",
        "                rescale=1./255, \n",
        "                rotation_range=15,\n",
        "                horizontal_flip=True,\n",
        "                shear_range = 0.2,\n",
        "                zoom_range = 0.2,\n",
        "                fill_mode = 'nearest')\n",
        "\n",
        "val_datagen =   ImageDataGenerator(\n",
        "                rescale=1./255,\n",
        "                rotation_range=15,\n",
        "                horizontal_flip=True,\n",
        "                shear_range = 0.2,\n",
        "                zoom_range = 0.2,\n",
        "                fill_mode = 'nearest')"
      ],
      "execution_count": 25,
      "outputs": []
    },
    {
      "cell_type": "markdown",
      "metadata": {
        "id": "CyFSmbwuQBhq"
      },
      "source": [
        "## **3. Tahap Pelatihan Data**\n",
        "### **3.1 Mempersiapkan data latih untuk Convolutional Neural Network (CNN)**\n",
        "<span style=\"font-family:Patrick Hand\">Objek image data generator akan digunakan untuk mempersiapkan data latih yang akan dipelajari model</span>"
      ]
    },
    {
      "cell_type": "code",
      "metadata": {
        "colab": {
          "base_uri": "https://localhost:8080/"
        },
        "id": "PBaAFc2DQKRB",
        "outputId": "db8755fa-f914-48a7-9af8-2af2c939a915"
      },
      "source": [
        "trainData_generator = train_datagen.flow_from_directory(\n",
        "        data_training_dir, \n",
        "        target_size=(150, 150),  #kita melakukan re-size gambar menjadi berukuran (150,150) pixel\n",
        "        batch_size=32,\n",
        "        class_mode='categorical') \n",
        "\"\"\"\n",
        "Untuk data yang memiliki lebih dari dua kategori kelas kita mengisi parameter class_mode dengan 'categorical'.\n",
        "Sedangkan jika kita hanya memiliki 2 kategori kelas kita bisa mengisinya dengan 'binary'\n",
        "\"\"\"\n",
        " \n",
        "validationData_generator = val_datagen.flow_from_directory(\n",
        "        data_validation_dir, \n",
        "        target_size=(150, 150), \n",
        "        batch_size=32,\n",
        "        class_mode='categorical')"
      ],
      "execution_count": 26,
      "outputs": [
        {
          "output_type": "stream",
          "text": [
            "Found 1314 images belonging to 3 classes.\n",
            "Found 874 images belonging to 3 classes.\n"
          ],
          "name": "stdout"
        }
      ]
    },
    {
      "cell_type": "markdown",
      "metadata": {
        "id": "n3Lwb1wPQObu"
      },
      "source": [
        "### 3.2 **Membangun arsitektur CNN**\n",
        "<span style=\"font-family:Patrick Hand\">CNN merupakan sebuah arsitektur jaringan saraf tiruan yang menggunakan sebuah atau beberapa layer konvolusi dan MaxPooling pada program jaringan saraf tiruan yang kita bangun hal ini diterapkan oleh fungsi tf.keras.layers.Conv2D dan tf.keras.layers.MaxPooling2D.</span>\n",
        "\n",
        "<span style=\"font-family:Patrick Hand\">Proses konvolusi adalah proses pengaplikasian filter pada gambar yang dilakukan dengan cara mengalikan matriks gambar dengan matriks filter.\n",
        "Untuk mengetahui parameter pada **tf.keras.layers.Conv2D**: https://www.tensorflow.org/api_docs/python/tf/keras/layers/Conv2D</span>\n",
        "\n",
        "<span style=\"font-family:Patrick Hand\">Sedangkan MaxPooling adalah proses yang dilakukan untuk mengurangi resolusi gambar dengan tetap mempertahankan informasi pada gambar.\n",
        "Untuk mengetahui parameter **tf.keras.layers.MaxPooling2D**:\n",
        "https://www.tensorflow.org/api_docs/python/tf/keras/layers/MaxPool2D</span>"
      ]
    },
    {
      "cell_type": "code",
      "metadata": {
        "colab": {
          "base_uri": "https://localhost:8080/"
        },
        "id": "O8MdXYiFQWnc",
        "outputId": "07f8aa65-d12d-4216-8245-ca35c92e684d"
      },
      "source": [
        "model = tf.keras.models.Sequential([\n",
        "    #Proses konvolusi pertama\n",
        "    tf.keras.layers.Conv2D(32, (3,3), activation='relu', input_shape=(150, 150, 3)), #kita menggunakan 32 filter\n",
        "    tf.keras.layers.MaxPooling2D(2, 2),\n",
        "    #Proses konvolusi kedua\n",
        "    tf.keras.layers.Conv2D(64, (3,3), activation='relu'), #kita menggunakan 64 filter\n",
        "    tf.keras.layers.MaxPooling2D(2,2),\n",
        "    #Proses konvolusi ketiga\n",
        "    tf.keras.layers.Conv2D(128, (3,3), activation='relu'), #kita menggunakan 128 filter\n",
        "    tf.keras.layers.MaxPooling2D(2,2),\n",
        "    #Proses konvolusi keempat\n",
        "    tf.keras.layers.Conv2D(256, (3,3), activation='relu'), #kita menggunakan 256 filter\n",
        "    tf.keras.layers.MaxPooling2D(2,2),\n",
        "    \n",
        "    tf.keras.layers.Flatten(),\n",
        "    tf.keras.layers.Dropout(0.5),\n",
        "    tf.keras.layers.Dense(256, activation='relu'), #Ini merupakan hidden layer yang memiliki 256 perceptron\n",
        "    tf.keras.layers.Dense(512, activation='relu'), #Ini merupakan hidden layer yang memiliki 512 perceptron\n",
        "    tf.keras.layers.Dense(3, activation='softmax') #Ini merupakan output layer, angka 3 mengindikasikan jumlah kelas\n",
        "])\n",
        "\n",
        "model.summary() #Melihat ukuran input dan output untuk setiap layer\n"
      ],
      "execution_count": 27,
      "outputs": [
        {
          "output_type": "stream",
          "text": [
            "Model: \"sequential\"\n",
            "_________________________________________________________________\n",
            "Layer (type)                 Output Shape              Param #   \n",
            "=================================================================\n",
            "conv2d (Conv2D)              (None, 148, 148, 32)      896       \n",
            "_________________________________________________________________\n",
            "max_pooling2d (MaxPooling2D) (None, 74, 74, 32)        0         \n",
            "_________________________________________________________________\n",
            "conv2d_1 (Conv2D)            (None, 72, 72, 64)        18496     \n",
            "_________________________________________________________________\n",
            "max_pooling2d_1 (MaxPooling2 (None, 36, 36, 64)        0         \n",
            "_________________________________________________________________\n",
            "conv2d_2 (Conv2D)            (None, 34, 34, 128)       73856     \n",
            "_________________________________________________________________\n",
            "max_pooling2d_2 (MaxPooling2 (None, 17, 17, 128)       0         \n",
            "_________________________________________________________________\n",
            "conv2d_3 (Conv2D)            (None, 15, 15, 256)       295168    \n",
            "_________________________________________________________________\n",
            "max_pooling2d_3 (MaxPooling2 (None, 7, 7, 256)         0         \n",
            "_________________________________________________________________\n",
            "flatten (Flatten)            (None, 12544)             0         \n",
            "_________________________________________________________________\n",
            "dropout (Dropout)            (None, 12544)             0         \n",
            "_________________________________________________________________\n",
            "dense (Dense)                (None, 256)               3211520   \n",
            "_________________________________________________________________\n",
            "dense_1 (Dense)              (None, 512)               131584    \n",
            "_________________________________________________________________\n",
            "dense_2 (Dense)              (None, 3)                 1539      \n",
            "=================================================================\n",
            "Total params: 3,733,059\n",
            "Trainable params: 3,733,059\n",
            "Non-trainable params: 0\n",
            "_________________________________________________________________\n"
          ],
          "name": "stdout"
        }
      ]
    },
    {
      "cell_type": "markdown",
      "metadata": {
        "id": "UbL6jKfLQ1zK"
      },
      "source": [
        "### **2.3 Meng-compile model**\n",
        "<span style=\"font-family:Patrick Hand\">Untuk mengcompile model kita akan menggunakan fungsi model.compile</span>"
      ]
    },
    {
      "cell_type": "code",
      "metadata": {
        "id": "t3WdHUPZQ420"
      },
      "source": [
        "model.compile(loss='categorical_crossentropy', #utuk kasus 2 atu lebih kategori kelas menggunaka 'categorical_crossentropy', sedagka jika hanya mempuyai dua kelas megguaka 'binary_crossentropy' \n",
        "              optimizer='Adam',\n",
        "              metrics=['accuracy'])"
      ],
      "execution_count": 28,
      "outputs": []
    },
    {
      "cell_type": "markdown",
      "metadata": {
        "id": "F5V60-jgQ9Jz"
      },
      "source": [
        "### **2.4 Melakukan fitting**"
      ]
    },
    {
      "cell_type": "code",
      "metadata": {
        "colab": {
          "base_uri": "https://localhost:8080/"
        },
        "id": "CLGTG6-PRCPE",
        "outputId": "fef38952-5cf1-4256-d797-d444a0720f77"
      },
      "source": [
        "# latih model dengan model.fit \n",
        "history = model.fit(\n",
        "          trainData_generator,\n",
        "          steps_per_epoch=25,  # berapa batch yang akan dieksekusi pada setiap epoch\n",
        "          epochs=30, # jumlah epochs yang kita gunaka (megindikasika berapa kali kita melakukan propagasi balik)\n",
        "          #Note: kita bisa meambahkan epochs jika dirasa model yang kita hasilka belum maksimal\n",
        "          validation_data=validationData_generator, # menampilkan akurasi pengujian data validasi\n",
        "          validation_steps=5,  # bayaknya batch yang akan dieksekusi pada setiap epoch\n",
        "          verbose=2)\n",
        "model.save(\"rphs.5\")"
      ],
      "execution_count": 29,
      "outputs": [
        {
          "output_type": "stream",
          "text": [
            "Epoch 1/30\n",
            "25/25 - 40s - loss: 1.0729 - accuracy: 0.3925 - val_loss: 0.7979 - val_accuracy: 0.7500\n",
            "Epoch 2/30\n",
            "25/25 - 6s - loss: 0.6066 - accuracy: 0.7779 - val_loss: 0.4361 - val_accuracy: 0.8687\n",
            "Epoch 3/30\n",
            "25/25 - 6s - loss: 0.4099 - accuracy: 0.8468 - val_loss: 0.3540 - val_accuracy: 0.8625\n",
            "Epoch 4/30\n",
            "25/25 - 6s - loss: 0.3128 - accuracy: 0.8763 - val_loss: 0.3498 - val_accuracy: 0.8125\n",
            "Epoch 5/30\n",
            "25/25 - 6s - loss: 0.2709 - accuracy: 0.8922 - val_loss: 0.3241 - val_accuracy: 0.8750\n",
            "Epoch 6/30\n",
            "25/25 - 6s - loss: 0.2463 - accuracy: 0.9150 - val_loss: 0.1789 - val_accuracy: 0.9500\n",
            "Epoch 7/30\n",
            "25/25 - 6s - loss: 0.2420 - accuracy: 0.9208 - val_loss: 0.2489 - val_accuracy: 0.9125\n",
            "Epoch 8/30\n",
            "25/25 - 6s - loss: 0.1791 - accuracy: 0.9362 - val_loss: 0.2830 - val_accuracy: 0.8750\n",
            "Epoch 9/30\n",
            "25/25 - 6s - loss: 0.1771 - accuracy: 0.9400 - val_loss: 0.2200 - val_accuracy: 0.9187\n",
            "Epoch 10/30\n",
            "25/25 - 6s - loss: 0.1754 - accuracy: 0.9390 - val_loss: 0.1858 - val_accuracy: 0.9375\n",
            "Epoch 11/30\n",
            "25/25 - 6s - loss: 0.2030 - accuracy: 0.9200 - val_loss: 0.2473 - val_accuracy: 0.9000\n",
            "Epoch 12/30\n",
            "25/25 - 6s - loss: 0.1629 - accuracy: 0.9442 - val_loss: 0.1464 - val_accuracy: 0.9563\n",
            "Epoch 13/30\n",
            "25/25 - 6s - loss: 0.1536 - accuracy: 0.9525 - val_loss: 0.1002 - val_accuracy: 0.9563\n",
            "Epoch 14/30\n",
            "25/25 - 6s - loss: 0.1439 - accuracy: 0.9519 - val_loss: 0.1679 - val_accuracy: 0.9438\n",
            "Epoch 15/30\n",
            "25/25 - 6s - loss: 0.1225 - accuracy: 0.9650 - val_loss: 0.2698 - val_accuracy: 0.9563\n",
            "Epoch 16/30\n",
            "25/25 - 6s - loss: 0.1130 - accuracy: 0.9662 - val_loss: 0.1173 - val_accuracy: 0.9563\n",
            "Epoch 17/30\n",
            "25/25 - 6s - loss: 0.1298 - accuracy: 0.9597 - val_loss: 0.1980 - val_accuracy: 0.9438\n",
            "Epoch 18/30\n",
            "25/25 - 6s - loss: 0.1275 - accuracy: 0.9545 - val_loss: 0.0895 - val_accuracy: 0.9750\n",
            "Epoch 19/30\n",
            "25/25 - 6s - loss: 0.0927 - accuracy: 0.9712 - val_loss: 0.0997 - val_accuracy: 0.9500\n",
            "Epoch 20/30\n",
            "25/25 - 6s - loss: 0.0859 - accuracy: 0.9714 - val_loss: 0.1047 - val_accuracy: 0.9625\n",
            "Epoch 21/30\n",
            "25/25 - 6s - loss: 0.0935 - accuracy: 0.9712 - val_loss: 0.1224 - val_accuracy: 0.9688\n",
            "Epoch 22/30\n",
            "25/25 - 6s - loss: 0.0782 - accuracy: 0.9775 - val_loss: 0.0901 - val_accuracy: 0.9688\n",
            "Epoch 23/30\n",
            "25/25 - 6s - loss: 0.0545 - accuracy: 0.9818 - val_loss: 0.1540 - val_accuracy: 0.9625\n",
            "Epoch 24/30\n",
            "25/25 - 6s - loss: 0.0860 - accuracy: 0.9740 - val_loss: 0.0670 - val_accuracy: 0.9625\n",
            "Epoch 25/30\n",
            "25/25 - 6s - loss: 0.0679 - accuracy: 0.9805 - val_loss: 0.0659 - val_accuracy: 0.9750\n",
            "Epoch 26/30\n",
            "25/25 - 6s - loss: 0.0673 - accuracy: 0.9753 - val_loss: 0.0258 - val_accuracy: 0.9937\n",
            "Epoch 27/30\n",
            "25/25 - 6s - loss: 0.0528 - accuracy: 0.9779 - val_loss: 0.1201 - val_accuracy: 0.9563\n",
            "Epoch 28/30\n",
            "25/25 - 6s - loss: 0.0848 - accuracy: 0.9675 - val_loss: 0.1001 - val_accuracy: 0.9688\n",
            "Epoch 29/30\n",
            "25/25 - 6s - loss: 0.0837 - accuracy: 0.9675 - val_loss: 0.0814 - val_accuracy: 0.9688\n",
            "Epoch 30/30\n",
            "25/25 - 6s - loss: 0.0285 - accuracy: 0.9909 - val_loss: 0.0369 - val_accuracy: 0.9812\n",
            "INFO:tensorflow:Assets written to: rphs.5/assets\n"
          ],
          "name": "stdout"
        }
      ]
    },
    {
      "cell_type": "markdown",
      "metadata": {
        "id": "KWY4gtz9RKMl"
      },
      "source": [
        "## **3. Tahap Validasi Hasil**"
      ]
    },
    {
      "cell_type": "markdown",
      "metadata": {
        "id": "k19vp2-qTsUj"
      },
      "source": [
        "### **3.1 Plot Akurasi Hasil Dari Data Training dan Data Validation**\n",
        "<span style=\"font-family:Patrick Hand\">Cek apakah model yang kita hasilkan megalami overfittig/underfittig </span>"
      ]
    },
    {
      "cell_type": "code",
      "metadata": {
        "colab": {
          "base_uri": "https://localhost:8080/",
          "height": 312
        },
        "id": "84419ZOgTwKe",
        "outputId": "aee416b8-c84b-4bc8-d089-2aedb9d1571a"
      },
      "source": [
        "#plotting grafik akurasi dari data tarining dan data validation:\n",
        "import matplotlib.pyplot as plt\n",
        "akurasi = history.history['accuracy'] #akurasi dari data training\n",
        "val_akurasi= history.history['val_accuracy'] #akurasi dari data validation\n",
        "\n",
        "j_epochs = range(len(akurasi))\n",
        "\n",
        "plt.plot(j_epochs, akurasi, 'green', label='Akurasi Pada Data Training')\n",
        "plt.plot(j_epochs, val_akurasi, 'brown', label='Akurasi Pada Data Validation')\n",
        "plt.title('Grafik Akurasi Model pada Data Training dan Data Validation')\n",
        "plt.xlabel(\"Epochs\")\n",
        "plt.ylabel('Akurasi')\n",
        "plt.legend(loc='lower right')\n",
        "plt.figure()\n",
        "\n",
        "plt.show()"
      ],
      "execution_count": 30,
      "outputs": [
        {
          "output_type": "display_data",
          "data": {
            "image/png": "[encoded data removed]",
            "text/plain": [
              "<Figure size 432x288 with 1 Axes>"
            ]
          },
          "metadata": {
            "tags": [],
            "needs_background": "light"
          }
        },
        {
          "output_type": "display_data",
          "data": {
            "text/plain": [
              "<Figure size 432x288 with 0 Axes>"
            ]
          },
          "metadata": {
            "tags": []
          }
        }
      ]
    },
    {
      "cell_type": "markdown",
      "metadata": {
        "id": "LDtRLpHagigs"
      },
      "source": [
        "### **3.2 Tes Model**\n",
        "Kita bisa melakukan tes pada model yang telah kita buat dengan menggunakan gambar lain untuk menguji apakah prediksi yang dihasilkan oleh model kita sudah benar atau tidak"
      ]
    },
    {
      "cell_type": "code",
      "metadata": {
        "colab": {
          "resources": {
            "http://localhost:8080/nbextensions/google.colab/files.js": {
              "data": "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",
              "ok": true,
              "headers": [
                [
                  "content-type",
                  "application/javascript"
                ]
              ],
              "status": 200,
              "status_text": ""
            }
          },
          "base_uri": "https://localhost:8080/",
          "height": 341
        },
        "id": "vC_axwdOgok_",
        "outputId": "f08c75cb-3fe6-4e6e-fb98-cab7381cd7a6"
      },
      "source": [
        "import numpy as np\n",
        "from google.colab import files\n",
        "from keras.preprocessing import image\n",
        "import matplotlib.pyplot as plt\n",
        "import matplotlib.image as mpimg\n",
        "%matplotlib inline\n",
        " \n",
        "uploaded = files.upload()\n",
        " \n",
        "for fn in uploaded.keys():\n",
        " \n",
        "  # predicting images\n",
        "  path = fn\n",
        "  img = image.load_img(path, target_size=(150,150))\n",
        "  imgplot = plt.imshow(img)\n",
        "  x = image.img_to_array(img)\n",
        "  x = np.expand_dims(x, axis=0)\n",
        "\n",
        "  images = np.vstack([x])\n",
        "  classes = model.predict(images, batch_size=32)\n",
        "\n",
        "  if classes[0][0]==1:\n",
        "    print('Paper')\n",
        "  elif classes[0][1]==1:\n",
        "    print('rock')\n",
        "  elif classes[0][2]==1:\n",
        "    print('Scissors')"
      ],
      "execution_count": 33,
      "outputs": [
        {
          "output_type": "display_data",
          "data": {
            "text/html": [
              "\n",
              "     <input type=\"file\" id=\"files-82289de7-f8cb-4304-a903-10075180bf3a\" name=\"files[]\" multiple disabled\n",
              "        style=\"border:none\" />\n",
              "     <output id=\"result-82289de7-f8cb-4304-a903-10075180bf3a\">\n",
              "      Upload widget is only available when the cell has been executed in the\n",
              "      current browser session. Please rerun this cell to enable.\n",
              "      </output>\n",
              "      <script src=\"/nbextensions/google.colab/files.js\"></script> "
            ],
            "text/plain": [
              "<IPython.core.display.HTML object>"
            ]
          },
          "metadata": {
            "tags": []
          }
        },
        {
          "output_type": "stream",
          "text": [
            "Saving batu.png to batu.png\n",
            "rock\n"
          ],
          "name": "stdout"
        },
        {
          "output_type": "display_data",
          "data": {
            "image/png": "[encoded data removed]",
            "text/plain": [
              "<Figure size 432x288 with 1 Axes>"
            ]
          },
          "metadata": {
            "tags": [],
            "needs_background": "light"
          }
        }
      ]
    }
  ]
}